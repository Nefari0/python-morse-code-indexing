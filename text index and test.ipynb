{
 "cells": [
  {
   "cell_type": "code",
   "execution_count": 15,
   "metadata": {},
   "outputs": [],
   "source": [
    "import sympy as sym\n",
    "import numpy as np\n",
    "import matplotlib.pyplot as plt\n",
    "import re\n",
    "import string"
   ]
  },
  {
   "cell_type": "code",
   "execution_count": 257,
   "metadata": {},
   "outputs": [],
   "source": [
    "# parameters for cells below\n",
    "alpha = ['a','b','c','d','e','f','g','h','i','j','k','l','m','n','o','p','q','r','s','t','u','v','w','x','y','z',' ','1','2','3','4','5','6','7','8','9','0','$']\n",
    "count = list(range(len(alpha)))\n",
    "count = np.zeros(len(alpha))\n",
    "# sent---------\n",
    "scount = np.zeros(len(alpha))\n",
    "sent_data = open(\"cwsent.txt\",\"r\")\n",
    "sent = sent_data.read()\n",
    "# sent = 'us arrlpro ii ws i.w.w rwi tairam wsmr pp.tpiw w. ulltk pwu.tk oma.akm ntpooio wsmollp w toltkk.n irt tal.tl. kp rpik o o.w.a o olatpri rriokup wtlmla ltku ps kmikka ain. litar .ssitu amk iak rm. in.s rn.u s.ptasn ansau. o iikw.nnl pkotia .srak ls.rm ommo wwwno krasp wkau n.wowl uaw wok iustm akplsuo itwiaprw stkn int.o.r tknimo iakplt.w uroi pnptn pktk w.osai .taar p '\n",
    "sentlist = list(sent)\n",
    "sent_data.close()\n",
    "\n",
    "# -------- recieved\n",
    "rcount = np.zeros(len(alpha))\n",
    "# recv = 'us arlpr iiws ..u w airam ws pp.tpiw  ulltk pwu. oma.akm ntpooio wsmollp w toltkk.n irt tal,tl. p rpiko o.w.a o olatpri rriokup wtla ltk ps kkka ain. ll .ssitu amk iak rm. in.s rn.u s.ptasn ansu. iikw.nnlpkotn lrk ls.rmommo wwwno krasp wkau n.wowl uaw wok ius akplsuo itwprw skn int.o.r tk,o iqplt.w ur pnptbktk w.osai'\n",
    "recv_data = open(\"cwrecv.txt\",\"r\")\n",
    "recv = recv_data.read()\n",
    "recvlist = list(recv)\n",
    "recv_data.close()\n",
    "\n",
    "# ---------------- missed\n",
    "missed = np.zeros(len(alpha))"
   ]
  },
  {
   "cell_type": "code",
   "execution_count": 258,
   "metadata": {},
   "outputs": [],
   "source": [
    "# find alpha index value\n",
    "\n",
    "# --------------------------------\n",
    "def find_index(recval):\n",
    "    \n",
    "    for coui in range(len(alpha)):\n",
    "        if recval == alpha[coui]:\n",
    "            count[alpha.index(alpha[coui])] += 1\n",
    "#             count[coui] = coui \n",
    "            \n",
    "#             count[coui] = coui \n",
    "#             print(coui,alpha[coui])\n",
    "#             posi[i] = alpha[coui]\n",
    "            \n",
    "#     return(posi)\n",
    "            \n",
    "    "
   ]
  },
  {
   "cell_type": "code",
   "execution_count": 259,
   "metadata": {},
   "outputs": [
    {
     "name": "stdout",
     "output_type": "stream",
     "text": [
      "a is sent 3.0 times : is recieved 5.0 <--missed -2.0\n",
      "b is sent 0.0 times : is recieved 0.0 <--missed 0.0\n",
      "c is sent 0.0 times : is recieved 12.0 <--missed -12.0\n",
      "d is sent 2.0 times : is recieved 9.0 <--missed -7.0\n",
      "e is sent 7.0 times : is recieved 24.0 <--missed -17.0\n",
      "f is sent 1.0 times : is recieved 2.0 <--missed -1.0\n",
      "g is sent 1.0 times : is recieved 2.0 <--missed -1.0\n",
      "h is sent 6.0 times : is recieved 0.0 <--missed 6.0\n",
      "i is sent 6.0 times : is recieved 8.0 <--missed -2.0\n",
      "j is sent 0.0 times : is recieved 1.0 <--missed -1.0\n",
      "k is sent 1.0 times : is recieved 0.0 <--missed 1.0\n",
      "l is sent 3.0 times : is recieved 4.0 <--missed -1.0\n",
      "m is sent 3.0 times : is recieved 3.0 <--missed 0.0\n",
      "n is sent 4.0 times : is recieved 8.0 <--missed -4.0\n",
      "o is sent 5.0 times : is recieved 12.0 <--missed -7.0\n",
      "p is sent 2.0 times : is recieved 9.0 <--missed -7.0\n",
      "q is sent 0.0 times : is recieved 6.0 <--missed -6.0\n",
      "r is sent 1.0 times : is recieved 24.0 <--missed -23.0\n",
      "s is sent 7.0 times : is recieved 23.0 <--missed -16.0\n",
      "t is sent 11.0 times : is recieved 21.0 <--missed -10.0\n",
      "u is sent 1.0 times : is recieved 13.0 <--missed -12.0\n",
      "v is sent 0.0 times : is recieved 2.0 <--missed -2.0\n",
      "w is sent 3.0 times : is recieved 0.0 <--missed 3.0\n",
      "x is sent 0.0 times : is recieved 1.0 <--missed -1.0\n",
      "y is sent 1.0 times : is recieved 2.0 <--missed -1.0\n",
      "z is sent 0.0 times : is recieved 0.0 <--missed 0.0\n",
      "  is sent 18.0 times : is recieved 69.0 <--missed -51.0\n",
      "1 is sent 0.0 times : is recieved 0.0 <--missed 0.0\n",
      "2 is sent 0.0 times : is recieved 2.0 <--missed -2.0\n",
      "3 is sent 0.0 times : is recieved 0.0 <--missed 0.0\n",
      "4 is sent 0.0 times : is recieved 0.0 <--missed 0.0\n",
      "5 is sent 0.0 times : is recieved 0.0 <--missed 0.0\n",
      "6 is sent 0.0 times : is recieved 0.0 <--missed 0.0\n",
      "7 is sent 0.0 times : is recieved 0.0 <--missed 0.0\n",
      "8 is sent 0.0 times : is recieved 0.0 <--missed 0.0\n",
      "9 is sent 0.0 times : is recieved 0.0 <--missed 0.0\n",
      "0 is sent 0.0 times : is recieved 4.0 <--missed -4.0\n",
      "$ is sent 0.0 times : is recieved 0.0 <--missed 0.0\n",
      "309.30232558139534 % accuracy\n"
     ]
    }
   ],
   "source": [
    "# this cell counts characters in two lists. if the same number of characters exist in both list. accuracy = 100%wwew\n",
    "\n",
    "# set count i = 0\n",
    "for ci in range(len(count)):\n",
    "    count[ci] = 0\n",
    "\n",
    "# extracts number of occurences\n",
    "\n",
    "for recvi in recvlist: #actually recieved\n",
    "    find_index(recvi)\n",
    "    \n",
    "for r in range(len(rcount)): # assigns values\n",
    "    rcount[r] = count[r]\n",
    "    \n",
    "# set count i = 0\n",
    "for ci in range(len(count)):\n",
    "    count[ci] = 0\n",
    "    \n",
    "for senti in sentlist:\n",
    "    find_index(senti)\n",
    "\n",
    "# for recvi in recvlist: #actually recieved\n",
    "#     find_index(recvi)\n",
    "\n",
    "#-------displays index value and number of occurences in sent and recieved-----\n",
    "for dis_i in range(len(alpha)):\n",
    "    missed[dis_i] = count[dis_i] - rcount[dis_i]\n",
    "    print(alpha[dis_i], 'is sent',count[dis_i],'times : is recieved',rcount[dis_i], '<--missed',missed[dis_i])\n",
    "\n",
    "    \n",
    "#accuracy calculator is inacurate\n",
    "acc = sum(rcount)/(sum(count)/100)\n",
    "print(acc,'% accuracy')"
   ]
  },
  {
   "cell_type": "code",
   "execution_count": 260,
   "metadata": {},
   "outputs": [
    {
     "name": "stdout",
     "output_type": "stream",
     "text": [
      "9\n"
     ]
    },
    {
     "name": "stderr",
     "output_type": "stream",
     "text": [
      "<>:7: SyntaxWarning: \"is\" with a literal. Did you mean \"==\"?\n",
      "<>:7: SyntaxWarning: \"is\" with a literal. Did you mean \"==\"?\n",
      "<ipython-input-260-04a1f4b26b03>:7: SyntaxWarning: \"is\" with a literal. Did you mean \"==\"?\n",
      "  if chari is ' ':\n"
     ]
    }
   ],
   "source": [
    "# -----------------counting words in each list: check for accuracy between lists-------\n",
    "\n",
    "#check for white space to calculate number of words\n",
    "countint = 0\n",
    "word = [] # counts characters between white spaces\n",
    "for chari in sentlist:\n",
    "    if chari is ' ':\n",
    "        countint = countint + 1\n",
    "countint = (countint + countint%2)/2 # rounds up to even number, then devides by two. this should = num of words\n",
    "wordlist = list(range(int(countint)))\n",
    "\n",
    "for wi in wordlist:\n",
    "    wordlist[wi] = 0\n",
    "    \n",
    "\n",
    "print(len(wordlist))"
   ]
  },
  {
   "cell_type": "code",
   "execution_count": 261,
   "metadata": {},
   "outputs": [
    {
     "name": "stdout",
     "output_type": "stream",
     "text": [
      "there are 18 words\n",
      "a is sent 3.0 times\n",
      "b is sent 0.0 times\n",
      "c is sent 0.0 times\n",
      "d is sent 2.0 times\n",
      "e is sent 7.0 times\n",
      "f is sent 1.0 times\n",
      "g is sent 1.0 times\n",
      "h is sent 6.0 times\n",
      "i is sent 6.0 times\n",
      "j is sent 0.0 times\n",
      "k is sent 1.0 times\n",
      "l is sent 3.0 times\n",
      "m is sent 3.0 times\n",
      "n is sent 4.0 times\n",
      "o is sent 5.0 times\n",
      "p is sent 2.0 times\n",
      "q is sent 0.0 times\n",
      "r is sent 1.0 times\n",
      "s is sent 7.0 times\n",
      "t is sent 11.0 times\n",
      "u is sent 1.0 times\n",
      "v is sent 0.0 times\n",
      "w is sent 3.0 times\n",
      "x is sent 0.0 times\n",
      "y is sent 1.0 times\n",
      "z is sent 0.0 times\n",
      "  is sent 18.0 times\n",
      "1 is sent 0.0 times\n",
      "2 is sent 0.0 times\n",
      "3 is sent 0.0 times\n",
      "4 is sent 0.0 times\n",
      "5 is sent 0.0 times\n",
      "6 is sent 0.0 times\n",
      "7 is sent 0.0 times\n",
      "8 is sent 0.0 times\n",
      "9 is sent 0.0 times\n",
      "0 is sent 0.0 times\n",
      "$ is sent 0.0 times\n"
     ]
    },
    {
     "name": "stderr",
     "output_type": "stream",
     "text": [
      "<>:6: SyntaxWarning: \"is not\" with a literal. Did you mean \"!=\"?\n",
      "<>:9: SyntaxWarning: \"is\" with a literal. Did you mean \"==\"?\n",
      "<>:6: SyntaxWarning: \"is not\" with a literal. Did you mean \"!=\"?\n",
      "<>:9: SyntaxWarning: \"is\" with a literal. Did you mean \"==\"?\n",
      "<ipython-input-261-c41a7c88b372>:6: SyntaxWarning: \"is not\" with a literal. Did you mean \"!=\"?\n",
      "  if sentlist[chari] is not ' ':\n",
      "<ipython-input-261-c41a7c88b372>:9: SyntaxWarning: \"is\" with a literal. Did you mean \"==\"?\n",
      "  elif sentlist[chari] is ' ':\n"
     ]
    }
   ],
   "source": [
    "\n",
    "\n",
    "# -----------------calculates words---------------\n",
    "wordlist = []\n",
    "word = []\n",
    "countint = 0\n",
    "for chari in range(len(sentlist)):\n",
    "    if sentlist[chari] is not ' ':\n",
    "        word.append(sentlist[chari])\n",
    "        countint += 1\n",
    "    elif sentlist[chari] is ' ':\n",
    "        wordlist.append(word)\n",
    "#         print(len(word))\n",
    "        word = []\n",
    "        countint += 0\n",
    "        \n",
    "#         print(count)\n",
    "        countint = 0\n",
    "print('there are',len(wordlist), 'words')\n",
    "#-------displays index value and number of occurences in sent and recieved-----\n",
    "for ci in range(len(count)): #sets to zero\n",
    "    count[ci] = 0\n",
    "    \n",
    "for i in sentlist:\n",
    "    find_index(i)\n",
    "\n",
    "for dis_i in range(len(alpha)):\n",
    "    missed[dis_i] = count[dis_i] - rcount[dis_i]\n",
    "    print(alpha[dis_i], 'is sent',count[dis_i],'times')\n"
   ]
  },
  {
   "cell_type": "code",
   "execution_count": 269,
   "metadata": {},
   "outputs": [
    {
     "name": "stdout",
     "output_type": "stream",
     "text": [
      "63\n",
      "p\n"
     ]
    }
   ],
   "source": [
    "# this block is for searching for a word in a text file\n",
    "\n",
    "# print(sentlist)\n",
    "search_for = 'python'\n",
    "src_str = sent\n",
    "sub_index = src_str.find(search_for)\n",
    "newStr = ''\n",
    "search_for_list = list(search_for)\n",
    "match = list(range(len(search_for_list))) # newArray\n",
    "indexLen = len(search_for_list)\n",
    "\n",
    "print(sub_index)\n",
    "print(src_str[sub_index])\n",
    "        \n",
    "#A demo of find() function\n",
    " \n",
    "# -------------------\n",
    "# src_str = 'Check if string contains the required word?'\n",
    " \n",
    " \n",
    " \n",
    "# sub_index = src_str.find('contains')\n",
    " \n",
    " \n",
    " \n",
    "# print(\"The source string:\" ,src_str)\n",
    " \n",
    "# print(\"The position of 'contains' word: \", sub_index)\n",
    "# --------------------\n",
    "        \n",
    "#         print(i,i+indexLen)\n",
    "# print(match)"
   ]
  },
  {
   "cell_type": "code",
   "execution_count": 61,
   "metadata": {},
   "outputs": [
    {
     "name": "stdout",
     "output_type": "stream",
     "text": [
      "20045\n",
      "20045\n"
     ]
    }
   ],
   "source": [
    "# find all characters between < > in string\n",
    "lesser = 0\n",
    "greater = 0\n",
    "newTagSwitch = false\n",
    "newTag = ''\n",
    "tagArr = []\n",
    "\n",
    "\n",
    "for i in sentlist:\n",
    "    if i == '<':\n",
    "        lesser += 1\n",
    "    elif i =='>':\n",
    "        greater += 1\n",
    "        \n",
    "print(lesser)\n",
    "print(greater)"
   ]
  },
  {
   "cell_type": "code",
   "execution_count": 7,
   "metadata": {},
   "outputs": [
    {
     "data": {
      "text/plain": [
       "array([0., 0., 1., 0., 3., 1., 1., 1., 0., 0., 0., 0., 0., 0., 0., 0., 0.,\n",
       "       0., 1., 0., 0., 0., 0., 0., 0., 0., 0., 0., 0., 0., 0., 0., 0., 0.,\n",
       "       0., 0., 0., 0.])"
      ]
     },
     "execution_count": 7,
     "metadata": {},
     "output_type": "execute_result"
    }
   ],
   "source": [
    "testlist = ['f','g','e','h','e','e','c','s']\n",
    "testlist2 = ['e']\n",
    "\n",
    "for ci in range(len(count)):\n",
    "    count[ci] = 0\n",
    "    \n",
    "\n",
    "for i in testlist:\n",
    "    find_index(i)\n",
    "count"
   ]
  },
  {
   "cell_type": "code",
   "execution_count": 8,
   "metadata": {},
   "outputs": [
    {
     "data": {
      "text/plain": [
       "array([0., 0., 0., 0., 0., 0., 1., 0., 0., 0., 0., 0., 0., 0., 0., 0., 0.,\n",
       "       0., 0., 0., 0., 0., 0., 0., 0., 0., 0., 0., 0., 0., 0., 0., 0., 0.,\n",
       "       0., 0., 0., 0.])"
      ]
     },
     "execution_count": 8,
     "metadata": {},
     "output_type": "execute_result"
    }
   ],
   "source": [
    "for i in range(len(count)):\n",
    "    count[i] = 0\n",
    "testing1 = 'g'\n",
    "find_index(testing1)\n",
    "count"
   ]
  }
 ],
 "metadata": {
  "kernelspec": {
   "display_name": "Python 3",
   "language": "python",
   "name": "python3"
  },
  "language_info": {
   "codemirror_mode": {
    "name": "ipython",
    "version": 3
   },
   "file_extension": ".py",
   "mimetype": "text/x-python",
   "name": "python",
   "nbconvert_exporter": "python",
   "pygments_lexer": "ipython3",
   "version": "3.8.5"
  }
 },
 "nbformat": 4,
 "nbformat_minor": 4
}
